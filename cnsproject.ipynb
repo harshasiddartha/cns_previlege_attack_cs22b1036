{
 "cells": [
  {
   "cell_type": "code",
   "execution_count": null,
   "id": "ff81df98-7f88-4c71-b058-0d9672a9259f",
   "metadata": {},
   "outputs": [],
   "source": [
    "#cns course project "
   ]
  },
  {
   "cell_type": "code",
   "execution_count": 2,
   "id": "cdf0f89a-094d-4802-aaa1-b22bc7a02e63",
   "metadata": {},
   "outputs": [
    {
     "name": "stdout",
     "output_type": "stream",
     "text": [
      "Requirement already satisfied: pandas in ./myenv/lib/python3.14/site-packages (2.3.3)\n",
      "Requirement already satisfied: numpy in ./myenv/lib/python3.14/site-packages (2.3.4)\n",
      "Requirement already satisfied: matplotlib in ./myenv/lib/python3.14/site-packages (3.10.7)\n",
      "Requirement already satisfied: seaborn in ./myenv/lib/python3.14/site-packages (0.13.2)\n",
      "Requirement already satisfied: scikit-learn in ./myenv/lib/python3.14/site-packages (1.7.2)\n",
      "Requirement already satisfied: joblib in ./myenv/lib/python3.14/site-packages (1.5.2)\n",
      "Requirement already satisfied: python-dateutil>=2.8.2 in ./myenv/lib/python3.14/site-packages (from pandas) (2.9.0.post0)\n",
      "Requirement already satisfied: pytz>=2020.1 in ./myenv/lib/python3.14/site-packages (from pandas) (2025.2)\n",
      "Requirement already satisfied: tzdata>=2022.7 in ./myenv/lib/python3.14/site-packages (from pandas) (2025.2)\n",
      "Requirement already satisfied: contourpy>=1.0.1 in ./myenv/lib/python3.14/site-packages (from matplotlib) (1.3.3)\n",
      "Requirement already satisfied: cycler>=0.10 in ./myenv/lib/python3.14/site-packages (from matplotlib) (0.12.1)\n",
      "Requirement already satisfied: fonttools>=4.22.0 in ./myenv/lib/python3.14/site-packages (from matplotlib) (4.60.1)\n",
      "Requirement already satisfied: kiwisolver>=1.3.1 in ./myenv/lib/python3.14/site-packages (from matplotlib) (1.4.9)\n",
      "Requirement already satisfied: packaging>=20.0 in ./myenv/lib/python3.14/site-packages (from matplotlib) (25.0)\n",
      "Requirement already satisfied: pillow>=8 in ./myenv/lib/python3.14/site-packages (from matplotlib) (12.0.0)\n",
      "Requirement already satisfied: pyparsing>=3 in ./myenv/lib/python3.14/site-packages (from matplotlib) (3.2.5)\n",
      "Requirement already satisfied: scipy>=1.8.0 in ./myenv/lib/python3.14/site-packages (from scikit-learn) (1.16.2)\n",
      "Requirement already satisfied: threadpoolctl>=3.1.0 in ./myenv/lib/python3.14/site-packages (from scikit-learn) (3.6.0)\n",
      "Requirement already satisfied: six>=1.5 in ./myenv/lib/python3.14/site-packages (from python-dateutil>=2.8.2->pandas) (1.17.0)\n"
     ]
    }
   ],
   "source": [
    "!pip3 install pandas numpy matplotlib seaborn scikit-learn joblib"
   ]
  },
  {
   "cell_type": "code",
   "execution_count": 3,
   "id": "6e283bd9-2a4c-4eb1-920f-ed341289b542",
   "metadata": {},
   "outputs": [],
   "source": [
    "import pandas as pd\n",
    "import numpy as np\n",
    "import matplotlib.pyplot as plt\n",
    "import seaborn as sns\n",
    "from sklearn.model_selection import train_test_split\n",
    "from sklearn.ensemble import RandomForestClassifier\n",
    "from sklearn.metrics import confusion_matrix, classification_report, roc_auc_score, roc_curve, precision_recall_curve\n",
    "from sklearn.preprocessing import StandardScaler, LabelEncoder\n",
    "from sklearn.ensemble import IsolationForest\n",
    "from sklearn.decomposition import PCA\n"
   ]
  },
  {
   "cell_type": "code",
   "execution_count": 5,
   "id": "96551dca-6221-4065-9762-05b7f7322853",
   "metadata": {},
   "outputs": [
    {
     "data": {
      "text/html": [
       "<div>\n",
       "<style scoped>\n",
       "    .dataframe tbody tr th:only-of-type {\n",
       "        vertical-align: middle;\n",
       "    }\n",
       "\n",
       "    .dataframe tbody tr th {\n",
       "        vertical-align: top;\n",
       "    }\n",
       "\n",
       "    .dataframe thead th {\n",
       "        text-align: right;\n",
       "    }\n",
       "</style>\n",
       "<table border=\"1\" class=\"dataframe\">\n",
       "  <thead>\n",
       "    <tr style=\"text-align: right;\">\n",
       "      <th></th>\n",
       "      <th>timestamp</th>\n",
       "      <th>processId</th>\n",
       "      <th>threadId</th>\n",
       "      <th>parentProcessId</th>\n",
       "      <th>userId</th>\n",
       "      <th>mountNamespace</th>\n",
       "      <th>processName</th>\n",
       "      <th>hostName</th>\n",
       "      <th>eventId</th>\n",
       "      <th>eventName</th>\n",
       "      <th>stackAddresses</th>\n",
       "      <th>argsNum</th>\n",
       "      <th>returnValue</th>\n",
       "      <th>args</th>\n",
       "      <th>sus</th>\n",
       "      <th>evil</th>\n",
       "    </tr>\n",
       "  </thead>\n",
       "  <tbody>\n",
       "    <tr>\n",
       "      <th>0</th>\n",
       "      <td>1809.495787</td>\n",
       "      <td>381</td>\n",
       "      <td>7337</td>\n",
       "      <td>1</td>\n",
       "      <td>100</td>\n",
       "      <td>4026532231</td>\n",
       "      <td>close</td>\n",
       "      <td>ip-10-100-1-120</td>\n",
       "      <td>157</td>\n",
       "      <td>prctl</td>\n",
       "      <td>[140662171848350, 11649800180280676]</td>\n",
       "      <td>5</td>\n",
       "      <td>0</td>\n",
       "      <td>[{'name': 'option', 'type': 'int', 'value': 'P...</td>\n",
       "      <td>1</td>\n",
       "      <td>0</td>\n",
       "    </tr>\n",
       "    <tr>\n",
       "      <th>1</th>\n",
       "      <td>1809.495832</td>\n",
       "      <td>381</td>\n",
       "      <td>7337</td>\n",
       "      <td>1</td>\n",
       "      <td>100</td>\n",
       "      <td>4026532231</td>\n",
       "      <td>close</td>\n",
       "      <td>ip-10-100-1-120</td>\n",
       "      <td>3</td>\n",
       "      <td>close</td>\n",
       "      <td>[140662171777451]</td>\n",
       "      <td>1</td>\n",
       "      <td>0</td>\n",
       "      <td>[{'name': 'fd', 'type': 'int', 'value': 19}]</td>\n",
       "      <td>1</td>\n",
       "      <td>0</td>\n",
       "    </tr>\n",
       "    <tr>\n",
       "      <th>2</th>\n",
       "      <td>1809.495921</td>\n",
       "      <td>381</td>\n",
       "      <td>7337</td>\n",
       "      <td>1</td>\n",
       "      <td>100</td>\n",
       "      <td>4026532231</td>\n",
       "      <td>close</td>\n",
       "      <td>ip-10-100-1-120</td>\n",
       "      <td>1010</td>\n",
       "      <td>sched_process_exit</td>\n",
       "      <td>[]</td>\n",
       "      <td>0</td>\n",
       "      <td>0</td>\n",
       "      <td>[]</td>\n",
       "      <td>1</td>\n",
       "      <td>0</td>\n",
       "    </tr>\n",
       "    <tr>\n",
       "      <th>3</th>\n",
       "      <td>1894.139651</td>\n",
       "      <td>7347</td>\n",
       "      <td>7347</td>\n",
       "      <td>7341</td>\n",
       "      <td>0</td>\n",
       "      <td>4026531840</td>\n",
       "      <td>sh</td>\n",
       "      <td>ip-10-100-1-120</td>\n",
       "      <td>21</td>\n",
       "      <td>access</td>\n",
       "      <td>[]</td>\n",
       "      <td>2</td>\n",
       "      <td>-2</td>\n",
       "      <td>[{'name': 'pathname', 'type': 'const char*', '...</td>\n",
       "      <td>1</td>\n",
       "      <td>0</td>\n",
       "    </tr>\n",
       "    <tr>\n",
       "      <th>4</th>\n",
       "      <td>1894.142127</td>\n",
       "      <td>7347</td>\n",
       "      <td>7347</td>\n",
       "      <td>7341</td>\n",
       "      <td>0</td>\n",
       "      <td>4026531840</td>\n",
       "      <td>sh</td>\n",
       "      <td>ip-10-100-1-120</td>\n",
       "      <td>1005</td>\n",
       "      <td>security_file_open</td>\n",
       "      <td>[139778263990104, 139778263906698]</td>\n",
       "      <td>4</td>\n",
       "      <td>0</td>\n",
       "      <td>[{'name': 'pathname', 'type': 'const char*', '...</td>\n",
       "      <td>1</td>\n",
       "      <td>0</td>\n",
       "    </tr>\n",
       "  </tbody>\n",
       "</table>\n",
       "</div>"
      ],
      "text/plain": [
       "     timestamp  processId  threadId  parentProcessId  userId  mountNamespace  \\\n",
       "0  1809.495787        381      7337                1     100      4026532231   \n",
       "1  1809.495832        381      7337                1     100      4026532231   \n",
       "2  1809.495921        381      7337                1     100      4026532231   \n",
       "3  1894.139651       7347      7347             7341       0      4026531840   \n",
       "4  1894.142127       7347      7347             7341       0      4026531840   \n",
       "\n",
       "  processName         hostName  eventId           eventName  \\\n",
       "0       close  ip-10-100-1-120      157               prctl   \n",
       "1       close  ip-10-100-1-120        3               close   \n",
       "2       close  ip-10-100-1-120     1010  sched_process_exit   \n",
       "3          sh  ip-10-100-1-120       21              access   \n",
       "4          sh  ip-10-100-1-120     1005  security_file_open   \n",
       "\n",
       "                         stackAddresses  argsNum  returnValue  \\\n",
       "0  [140662171848350, 11649800180280676]        5            0   \n",
       "1                     [140662171777451]        1            0   \n",
       "2                                    []        0            0   \n",
       "3                                    []        2           -2   \n",
       "4    [139778263990104, 139778263906698]        4            0   \n",
       "\n",
       "                                                args  sus  evil  \n",
       "0  [{'name': 'option', 'type': 'int', 'value': 'P...    1     0  \n",
       "1       [{'name': 'fd', 'type': 'int', 'value': 19}]    1     0  \n",
       "2                                                 []    1     0  \n",
       "3  [{'name': 'pathname', 'type': 'const char*', '...    1     0  \n",
       "4  [{'name': 'pathname', 'type': 'const char*', '...    1     0  "
      ]
     },
     "execution_count": 5,
     "metadata": {},
     "output_type": "execute_result"
    }
   ],
   "source": [
    "# Replace with your dataset path\n",
    "file_path = 'labelled_training_data 2.csv'\n",
    "df = pd.read_csv(file_path)\n",
    "df.head()\n"
   ]
  },
  {
   "cell_type": "code",
   "execution_count": 7,
   "id": "2e0f6b4f-a8f2-4c57-b6f9-830d72419b1b",
   "metadata": {},
   "outputs": [
    {
     "name": "stdout",
     "output_type": "stream",
     "text": [
      "Index(['timestamp', 'processId', 'threadId', 'parentProcessId', 'userId',\n",
      "       'mountNamespace', 'processName', 'hostName', 'eventId', 'eventName',\n",
      "       'stackAddresses', 'argsNum', 'returnValue', 'args', 'sus', 'evil'],\n",
      "      dtype='object')\n"
     ]
    }
   ],
   "source": [
    "print(df.columns)\n",
    "\n"
   ]
  },
  {
   "cell_type": "code",
   "execution_count": 8,
   "id": "25427f74-5f39-4f8b-8ed3-d1f46b072df9",
   "metadata": {},
   "outputs": [
    {
     "name": "stdout",
     "output_type": "stream",
     "text": [
      "['close' 'sh' 'run-parts' 'atd' 'systemd-logind' 'systemd'\n",
      " 'systemd-journal' 'dbus-daemon' '(time-dir)' 'systemd-user-ru' 'docker'\n",
      " 'systemd-resolve' 'dockerd' 'containerd-shim' 'amazon-ssm-agen' 'ps'\n",
      " 'cron' 'snapd' 'systemd-network' 'journal-offline' 'kworker/dying'\n",
      " 'ssm-agent-worke' 'packagekitd' 'gdbus' 'gmain' '(tmpfiles)'\n",
      " 'systemd-tmpfile' 'kworker/u30:1' 'poweroff' '(sd-sync)' 'kworker/u30:0'\n",
      " 'kworker/u30:2' 'systemd-timesyn' 'systemd-udevd' '(sd-pam)' 'sshd']\n",
      "['prctl' 'close' 'sched_process_exit' 'access' 'security_file_open'\n",
      " 'openat' 'fstat' 'stat' 'clone' 'execve' 'security_bprm_check'\n",
      " 'getdents64' 'cap_capable' 'kill' 'lstat' 'fchmod'\n",
      " 'security_inode_unlink' 'unlink' 'dup3' 'socket' 'connect' 'dup2'\n",
      " 'accept4' 'unlinkat' 'umount' 'getsockname' 'symlink' 'bind' 'setgid'\n",
      " 'setuid' 'accept' 'dup']\n"
     ]
    }
   ],
   "source": [
    "print(df['processName'].unique())\n",
    "print(df['eventName'].unique())\n",
    "\n"
   ]
  },
  {
   "cell_type": "code",
   "execution_count": 9,
   "id": "4038c0cc-b43c-4bb5-a88e-551a1c7414a1",
   "metadata": {},
   "outputs": [
    {
     "data": {
      "text/html": [
       "<div>\n",
       "<style scoped>\n",
       "    .dataframe tbody tr th:only-of-type {\n",
       "        vertical-align: middle;\n",
       "    }\n",
       "\n",
       "    .dataframe tbody tr th {\n",
       "        vertical-align: top;\n",
       "    }\n",
       "\n",
       "    .dataframe thead th {\n",
       "        text-align: right;\n",
       "    }\n",
       "</style>\n",
       "<table border=\"1\" class=\"dataframe\">\n",
       "  <thead>\n",
       "    <tr style=\"text-align: right;\">\n",
       "      <th></th>\n",
       "      <th>timestamp</th>\n",
       "      <th>processId</th>\n",
       "      <th>threadId</th>\n",
       "      <th>parentProcessId</th>\n",
       "      <th>userId</th>\n",
       "      <th>mountNamespace</th>\n",
       "      <th>processName</th>\n",
       "      <th>hostName</th>\n",
       "      <th>eventId</th>\n",
       "      <th>eventName</th>\n",
       "      <th>stackAddresses</th>\n",
       "      <th>argsNum</th>\n",
       "      <th>returnValue</th>\n",
       "      <th>args</th>\n",
       "      <th>sus</th>\n",
       "      <th>evil</th>\n",
       "    </tr>\n",
       "  </thead>\n",
       "  <tbody>\n",
       "    <tr>\n",
       "      <th>0</th>\n",
       "      <td>1809.495787</td>\n",
       "      <td>381</td>\n",
       "      <td>7337</td>\n",
       "      <td>1</td>\n",
       "      <td>100</td>\n",
       "      <td>4026532231</td>\n",
       "      <td>close</td>\n",
       "      <td>ip-10-100-1-120</td>\n",
       "      <td>157</td>\n",
       "      <td>prctl</td>\n",
       "      <td>[140662171848350, 11649800180280676]</td>\n",
       "      <td>5</td>\n",
       "      <td>0</td>\n",
       "      <td>[{'name': 'option', 'type': 'int', 'value': 'P...</td>\n",
       "      <td>1</td>\n",
       "      <td>0</td>\n",
       "    </tr>\n",
       "    <tr>\n",
       "      <th>1</th>\n",
       "      <td>1809.495832</td>\n",
       "      <td>381</td>\n",
       "      <td>7337</td>\n",
       "      <td>1</td>\n",
       "      <td>100</td>\n",
       "      <td>4026532231</td>\n",
       "      <td>close</td>\n",
       "      <td>ip-10-100-1-120</td>\n",
       "      <td>3</td>\n",
       "      <td>close</td>\n",
       "      <td>[140662171777451]</td>\n",
       "      <td>1</td>\n",
       "      <td>0</td>\n",
       "      <td>[{'name': 'fd', 'type': 'int', 'value': 19}]</td>\n",
       "      <td>1</td>\n",
       "      <td>0</td>\n",
       "    </tr>\n",
       "    <tr>\n",
       "      <th>2</th>\n",
       "      <td>1809.495921</td>\n",
       "      <td>381</td>\n",
       "      <td>7337</td>\n",
       "      <td>1</td>\n",
       "      <td>100</td>\n",
       "      <td>4026532231</td>\n",
       "      <td>close</td>\n",
       "      <td>ip-10-100-1-120</td>\n",
       "      <td>1010</td>\n",
       "      <td>sched_process_exit</td>\n",
       "      <td>[]</td>\n",
       "      <td>0</td>\n",
       "      <td>0</td>\n",
       "      <td>[]</td>\n",
       "      <td>1</td>\n",
       "      <td>0</td>\n",
       "    </tr>\n",
       "    <tr>\n",
       "      <th>3</th>\n",
       "      <td>1894.139651</td>\n",
       "      <td>7347</td>\n",
       "      <td>7347</td>\n",
       "      <td>7341</td>\n",
       "      <td>0</td>\n",
       "      <td>4026531840</td>\n",
       "      <td>sh</td>\n",
       "      <td>ip-10-100-1-120</td>\n",
       "      <td>21</td>\n",
       "      <td>access</td>\n",
       "      <td>[]</td>\n",
       "      <td>2</td>\n",
       "      <td>-2</td>\n",
       "      <td>[{'name': 'pathname', 'type': 'const char*', '...</td>\n",
       "      <td>1</td>\n",
       "      <td>0</td>\n",
       "    </tr>\n",
       "    <tr>\n",
       "      <th>4</th>\n",
       "      <td>1894.142127</td>\n",
       "      <td>7347</td>\n",
       "      <td>7347</td>\n",
       "      <td>7341</td>\n",
       "      <td>0</td>\n",
       "      <td>4026531840</td>\n",
       "      <td>sh</td>\n",
       "      <td>ip-10-100-1-120</td>\n",
       "      <td>1005</td>\n",
       "      <td>security_file_open</td>\n",
       "      <td>[139778263990104, 139778263906698]</td>\n",
       "      <td>4</td>\n",
       "      <td>0</td>\n",
       "      <td>[{'name': 'pathname', 'type': 'const char*', '...</td>\n",
       "      <td>1</td>\n",
       "      <td>0</td>\n",
       "    </tr>\n",
       "  </tbody>\n",
       "</table>\n",
       "</div>"
      ],
      "text/plain": [
       "     timestamp  processId  threadId  parentProcessId  userId  mountNamespace  \\\n",
       "0  1809.495787        381      7337                1     100      4026532231   \n",
       "1  1809.495832        381      7337                1     100      4026532231   \n",
       "2  1809.495921        381      7337                1     100      4026532231   \n",
       "3  1894.139651       7347      7347             7341       0      4026531840   \n",
       "4  1894.142127       7347      7347             7341       0      4026531840   \n",
       "\n",
       "  processName         hostName  eventId           eventName  \\\n",
       "0       close  ip-10-100-1-120      157               prctl   \n",
       "1       close  ip-10-100-1-120        3               close   \n",
       "2       close  ip-10-100-1-120     1010  sched_process_exit   \n",
       "3          sh  ip-10-100-1-120       21              access   \n",
       "4          sh  ip-10-100-1-120     1005  security_file_open   \n",
       "\n",
       "                         stackAddresses  argsNum  returnValue  \\\n",
       "0  [140662171848350, 11649800180280676]        5            0   \n",
       "1                     [140662171777451]        1            0   \n",
       "2                                    []        0            0   \n",
       "3                                    []        2           -2   \n",
       "4    [139778263990104, 139778263906698]        4            0   \n",
       "\n",
       "                                                args  sus  evil  \n",
       "0  [{'name': 'option', 'type': 'int', 'value': 'P...    1     0  \n",
       "1       [{'name': 'fd', 'type': 'int', 'value': 19}]    1     0  \n",
       "2                                                 []    1     0  \n",
       "3  [{'name': 'pathname', 'type': 'const char*', '...    1     0  \n",
       "4  [{'name': 'pathname', 'type': 'const char*', '...    1     0  "
      ]
     },
     "execution_count": 9,
     "metadata": {},
     "output_type": "execute_result"
    }
   ],
   "source": [
    "df[df['evil'] == 1].head()\n",
    "df[df['sus'] == 1].head()\n"
   ]
  },
  {
   "cell_type": "code",
   "execution_count": 11,
   "id": "9cad543a-08c2-4eab-ad8f-c1988ca39991",
   "metadata": {},
   "outputs": [],
   "source": [
    "# For FTP-specific process filtering\n",
    "ftp_process = ['vsftpd', 'ftp', 'ftpd']\n",
    "df_ftp = df[df['processName'].isin(ftp_process)]\n"
   ]
  },
  {
   "cell_type": "code",
   "execution_count": 12,
   "id": "74129fdc-2921-4623-bba4-271a7a78bcb8",
   "metadata": {},
   "outputs": [
    {
     "name": "stdout",
     "output_type": "stream",
     "text": [
      "['close' 'sh' 'run-parts' 'atd' 'systemd-logind' 'systemd'\n",
      " 'systemd-journal' 'dbus-daemon' '(time-dir)' 'systemd-user-ru' 'docker'\n",
      " 'systemd-resolve' 'dockerd' 'containerd-shim' 'amazon-ssm-agen' 'ps'\n",
      " 'cron' 'snapd' 'systemd-network' 'journal-offline' 'kworker/dying'\n",
      " 'ssm-agent-worke' 'packagekitd' 'gdbus' 'gmain' '(tmpfiles)'\n",
      " 'systemd-tmpfile' 'kworker/u30:1' 'poweroff' '(sd-sync)' 'kworker/u30:0'\n",
      " 'kworker/u30:2' 'systemd-timesyn' 'systemd-udevd' '(sd-pam)' 'sshd']\n"
     ]
    }
   ],
   "source": [
    "print(df['processName'].unique())\n"
   ]
  },
  {
   "cell_type": "code",
   "execution_count": 13,
   "id": "c8e1c633-9a55-4a5f-a696-9262ab6a5996",
   "metadata": {},
   "outputs": [
    {
     "data": {
      "text/html": [
       "<div>\n",
       "<style scoped>\n",
       "    .dataframe tbody tr th:only-of-type {\n",
       "        vertical-align: middle;\n",
       "    }\n",
       "\n",
       "    .dataframe tbody tr th {\n",
       "        vertical-align: top;\n",
       "    }\n",
       "\n",
       "    .dataframe thead th {\n",
       "        text-align: right;\n",
       "    }\n",
       "</style>\n",
       "<table border=\"1\" class=\"dataframe\">\n",
       "  <thead>\n",
       "    <tr style=\"text-align: right;\">\n",
       "      <th></th>\n",
       "      <th>timestamp</th>\n",
       "      <th>processId</th>\n",
       "      <th>threadId</th>\n",
       "      <th>parentProcessId</th>\n",
       "      <th>userId</th>\n",
       "      <th>mountNamespace</th>\n",
       "      <th>processName</th>\n",
       "      <th>hostName</th>\n",
       "      <th>eventId</th>\n",
       "      <th>eventName</th>\n",
       "      <th>stackAddresses</th>\n",
       "      <th>argsNum</th>\n",
       "      <th>returnValue</th>\n",
       "      <th>args</th>\n",
       "      <th>sus</th>\n",
       "      <th>evil</th>\n",
       "    </tr>\n",
       "  </thead>\n",
       "  <tbody>\n",
       "  </tbody>\n",
       "</table>\n",
       "</div>"
      ],
      "text/plain": [
       "Empty DataFrame\n",
       "Columns: [timestamp, processId, threadId, parentProcessId, userId, mountNamespace, processName, hostName, eventId, eventName, stackAddresses, argsNum, returnValue, args, sus, evil]\n",
       "Index: []"
      ]
     },
     "execution_count": 13,
     "metadata": {},
     "output_type": "execute_result"
    }
   ],
   "source": [
    "df[df['processName'].str.contains('ftp', case=False, na=False)]\n"
   ]
  },
  {
   "cell_type": "code",
   "execution_count": 14,
   "id": "6b40c44f-5524-4e09-82a4-89ca646693b0",
   "metadata": {},
   "outputs": [],
   "source": [
    "df_ssh = df[df['processName'].str.contains('ssh', case=False, na=False)]\n"
   ]
  },
  {
   "cell_type": "code",
   "execution_count": 15,
   "id": "a5d3b13d-487a-4284-8bc3-7c45208b3b72",
   "metadata": {},
   "outputs": [
    {
     "name": "stdout",
     "output_type": "stream",
     "text": [
      "(91762, 16)\n"
     ]
    },
    {
     "data": {
      "text/html": [
       "<div>\n",
       "<style scoped>\n",
       "    .dataframe tbody tr th:only-of-type {\n",
       "        vertical-align: middle;\n",
       "    }\n",
       "\n",
       "    .dataframe tbody tr th {\n",
       "        vertical-align: top;\n",
       "    }\n",
       "\n",
       "    .dataframe thead th {\n",
       "        text-align: right;\n",
       "    }\n",
       "</style>\n",
       "<table border=\"1\" class=\"dataframe\">\n",
       "  <thead>\n",
       "    <tr style=\"text-align: right;\">\n",
       "      <th></th>\n",
       "      <th>timestamp</th>\n",
       "      <th>processId</th>\n",
       "      <th>threadId</th>\n",
       "      <th>parentProcessId</th>\n",
       "      <th>userId</th>\n",
       "      <th>mountNamespace</th>\n",
       "      <th>processName</th>\n",
       "      <th>hostName</th>\n",
       "      <th>eventId</th>\n",
       "      <th>eventName</th>\n",
       "      <th>stackAddresses</th>\n",
       "      <th>argsNum</th>\n",
       "      <th>returnValue</th>\n",
       "      <th>args</th>\n",
       "      <th>sus</th>\n",
       "      <th>evil</th>\n",
       "    </tr>\n",
       "  </thead>\n",
       "  <tbody>\n",
       "    <tr>\n",
       "      <th>670635</th>\n",
       "      <td>191.884606</td>\n",
       "      <td>3338</td>\n",
       "      <td>3338</td>\n",
       "      <td>1</td>\n",
       "      <td>0</td>\n",
       "      <td>4026531840</td>\n",
       "      <td>sshd</td>\n",
       "      <td>ip-10-100-1-120</td>\n",
       "      <td>62</td>\n",
       "      <td>kill</td>\n",
       "      <td>[139829520844123, 1186065754345177112]</td>\n",
       "      <td>2</td>\n",
       "      <td>0</td>\n",
       "      <td>[{'name': 'pid', 'type': 'pid_t', 'value': 0},...</td>\n",
       "      <td>0</td>\n",
       "      <td>0</td>\n",
       "    </tr>\n",
       "    <tr>\n",
       "      <th>670636</th>\n",
       "      <td>191.885170</td>\n",
       "      <td>3338</td>\n",
       "      <td>3338</td>\n",
       "      <td>1</td>\n",
       "      <td>0</td>\n",
       "      <td>4026531840</td>\n",
       "      <td>sshd</td>\n",
       "      <td>ip-10-100-1-120</td>\n",
       "      <td>1010</td>\n",
       "      <td>sched_process_exit</td>\n",
       "      <td>[]</td>\n",
       "      <td>0</td>\n",
       "      <td>0</td>\n",
       "      <td>[]</td>\n",
       "      <td>0</td>\n",
       "      <td>0</td>\n",
       "    </tr>\n",
       "    <tr>\n",
       "      <th>670637</th>\n",
       "      <td>1242.256657</td>\n",
       "      <td>7097</td>\n",
       "      <td>7097</td>\n",
       "      <td>1</td>\n",
       "      <td>0</td>\n",
       "      <td>4026531840</td>\n",
       "      <td>sshd</td>\n",
       "      <td>ip-10-100-1-120</td>\n",
       "      <td>43</td>\n",
       "      <td>accept</td>\n",
       "      <td>[140697427337783]</td>\n",
       "      <td>3</td>\n",
       "      <td>5</td>\n",
       "      <td>[{'name': 'sockfd', 'type': 'int', 'value': 3}...</td>\n",
       "      <td>0</td>\n",
       "      <td>0</td>\n",
       "    </tr>\n",
       "    <tr>\n",
       "      <th>670638</th>\n",
       "      <td>1242.257446</td>\n",
       "      <td>7097</td>\n",
       "      <td>7097</td>\n",
       "      <td>1</td>\n",
       "      <td>0</td>\n",
       "      <td>4026531840</td>\n",
       "      <td>sshd</td>\n",
       "      <td>ip-10-100-1-120</td>\n",
       "      <td>56</td>\n",
       "      <td>clone</td>\n",
       "      <td>[140697427087551]</td>\n",
       "      <td>5</td>\n",
       "      <td>7321</td>\n",
       "      <td>[{'name': 'flags', 'type': 'int', 'value': 'CL...</td>\n",
       "      <td>0</td>\n",
       "      <td>0</td>\n",
       "    </tr>\n",
       "    <tr>\n",
       "      <th>670639</th>\n",
       "      <td>1242.257595</td>\n",
       "      <td>7097</td>\n",
       "      <td>7097</td>\n",
       "      <td>1</td>\n",
       "      <td>0</td>\n",
       "      <td>4026531840</td>\n",
       "      <td>sshd</td>\n",
       "      <td>ip-10-100-1-120</td>\n",
       "      <td>3</td>\n",
       "      <td>close</td>\n",
       "      <td>[140697427265927]</td>\n",
       "      <td>1</td>\n",
       "      <td>0</td>\n",
       "      <td>[{'name': 'fd', 'type': 'int', 'value': 7}]</td>\n",
       "      <td>0</td>\n",
       "      <td>0</td>\n",
       "    </tr>\n",
       "  </tbody>\n",
       "</table>\n",
       "</div>"
      ],
      "text/plain": [
       "          timestamp  processId  threadId  parentProcessId  userId  \\\n",
       "670635   191.884606       3338      3338                1       0   \n",
       "670636   191.885170       3338      3338                1       0   \n",
       "670637  1242.256657       7097      7097                1       0   \n",
       "670638  1242.257446       7097      7097                1       0   \n",
       "670639  1242.257595       7097      7097                1       0   \n",
       "\n",
       "        mountNamespace processName         hostName  eventId  \\\n",
       "670635      4026531840        sshd  ip-10-100-1-120       62   \n",
       "670636      4026531840        sshd  ip-10-100-1-120     1010   \n",
       "670637      4026531840        sshd  ip-10-100-1-120       43   \n",
       "670638      4026531840        sshd  ip-10-100-1-120       56   \n",
       "670639      4026531840        sshd  ip-10-100-1-120        3   \n",
       "\n",
       "                 eventName                          stackAddresses  argsNum  \\\n",
       "670635                kill  [139829520844123, 1186065754345177112]        2   \n",
       "670636  sched_process_exit                                      []        0   \n",
       "670637              accept                       [140697427337783]        3   \n",
       "670638               clone                       [140697427087551]        5   \n",
       "670639               close                       [140697427265927]        1   \n",
       "\n",
       "        returnValue                                               args  sus  \\\n",
       "670635            0  [{'name': 'pid', 'type': 'pid_t', 'value': 0},...    0   \n",
       "670636            0                                                 []    0   \n",
       "670637            5  [{'name': 'sockfd', 'type': 'int', 'value': 3}...    0   \n",
       "670638         7321  [{'name': 'flags', 'type': 'int', 'value': 'CL...    0   \n",
       "670639            0        [{'name': 'fd', 'type': 'int', 'value': 7}]    0   \n",
       "\n",
       "        evil  \n",
       "670635     0  \n",
       "670636     0  \n",
       "670637     0  \n",
       "670638     0  \n",
       "670639     0  "
      ]
     },
     "execution_count": 15,
     "metadata": {},
     "output_type": "execute_result"
    }
   ],
   "source": [
    "print(df_ssh.shape)\n",
    "df_ssh.head()\n"
   ]
  },
  {
   "cell_type": "code",
   "execution_count": 17,
   "id": "3330c524-71c7-4c40-a87b-711ce0fdf5c8",
   "metadata": {},
   "outputs": [],
   "source": [
    "df_ssh = df[df['processName'].str.contains('ssh', case=False, na=False)].copy()\n",
    "df_ssh['is_attack'] = (df_ssh['evil'] | df_ssh['sus'])\n"
   ]
  },
  {
   "cell_type": "code",
   "execution_count": 18,
   "id": "f0a366df-80ce-4494-98d6-55544f0cac8c",
   "metadata": {},
   "outputs": [
    {
     "data": {
      "image/png": "[encoded data removed]",
      "text/plain": [
       "<Figure size 640x480 with 1 Axes>"
      ]
     },
     "metadata": {},
     "output_type": "display_data"
    }
   ],
   "source": [
    "import seaborn as sns\n",
    "import matplotlib.pyplot as plt\n",
    "\n",
    "sns.countplot(x='is_attack', data=df_ssh)\n",
    "plt.title('Normal vs. Attack Distribution (SSH)')\n",
    "plt.xlabel('Is Attack (0=Normal, 1=Attack)')\n",
    "plt.ylabel('Count')\n",
    "plt.show()\n"
   ]
  },
  {
   "cell_type": "code",
   "execution_count": 19,
   "id": "6eb9b841-4b90-4940-b55e-8f310d17acd0",
   "metadata": {},
   "outputs": [
    {
     "name": "stdout",
     "output_type": "stream",
     "text": [
      "EventName unique values: ['kill' 'sched_process_exit' 'accept' 'clone' 'close' 'fstat'\n",
      " 'security_file_open' 'openat' 'dup2' 'security_bprm_check' 'execve'\n",
      " 'access' 'cap_capable' 'getdents64' 'dup' 'socket' 'bind' 'getsockname'\n",
      " 'connect' 'stat' 'lstat' 'setgid' 'setuid' 'prctl']\n",
      "Sample rows with attacks:\n",
      " Empty DataFrame\n",
      "Columns: [timestamp, processId, threadId, parentProcessId, userId, mountNamespace, processName, hostName, eventId, eventName, stackAddresses, argsNum, returnValue, args, sus, evil, is_attack]\n",
      "Index: []\n"
     ]
    }
   ],
   "source": [
    "print(\"EventName unique values:\", df_ssh['eventName'].unique())\n",
    "print(\"Sample rows with attacks:\\n\", df_ssh[df_ssh['is_attack']==1].head())\n"
   ]
  },
  {
   "cell_type": "code",
   "execution_count": 20,
   "id": "22b99269-84a0-468a-8393-cb305947a9af",
   "metadata": {},
   "outputs": [],
   "source": [
    "from sklearn.preprocessing import LabelEncoder\n",
    "\n",
    "cat_cols = ['processName', 'eventName', 'hostName']  # add more if needed and present in data\n",
    "for col in cat_cols:\n",
    "    df_ssh[col] = LabelEncoder().fit_transform(df_ssh[col])\n"
   ]
  },
  {
   "cell_type": "code",
   "execution_count": 21,
   "id": "4f0b9523-c38a-468b-8b69-077691d67868",
   "metadata": {},
   "outputs": [
    {
     "name": "stdout",
     "output_type": "stream",
     "text": [
      "evil\n",
      "0    763144\n",
      "Name: count, dtype: int64\n",
      "sus\n",
      "0    761875\n",
      "1      1269\n",
      "Name: count, dtype: int64\n",
      "Empty DataFrame\n",
      "Columns: [timestamp, processId, threadId, parentProcessId, userId, mountNamespace, processName, hostName, eventId, eventName, stackAddresses, argsNum, returnValue, args, sus, evil]\n",
      "Index: []\n",
      "     timestamp  processId  threadId  parentProcessId  userId  mountNamespace  \\\n",
      "0  1809.495787        381      7337                1     100      4026532231   \n",
      "1  1809.495832        381      7337                1     100      4026532231   \n",
      "2  1809.495921        381      7337                1     100      4026532231   \n",
      "3  1894.139651       7347      7347             7341       0      4026531840   \n",
      "4  1894.142127       7347      7347             7341       0      4026531840   \n",
      "\n",
      "  processName         hostName  eventId           eventName  \\\n",
      "0       close  ip-10-100-1-120      157               prctl   \n",
      "1       close  ip-10-100-1-120        3               close   \n",
      "2       close  ip-10-100-1-120     1010  sched_process_exit   \n",
      "3          sh  ip-10-100-1-120       21              access   \n",
      "4          sh  ip-10-100-1-120     1005  security_file_open   \n",
      "\n",
      "                         stackAddresses  argsNum  returnValue  \\\n",
      "0  [140662171848350, 11649800180280676]        5            0   \n",
      "1                     [140662171777451]        1            0   \n",
      "2                                    []        0            0   \n",
      "3                                    []        2           -2   \n",
      "4    [139778263990104, 139778263906698]        4            0   \n",
      "\n",
      "                                                args  sus  evil  \n",
      "0  [{'name': 'option', 'type': 'int', 'value': 'P...    1     0  \n",
      "1       [{'name': 'fd', 'type': 'int', 'value': 19}]    1     0  \n",
      "2                                                 []    1     0  \n",
      "3  [{'name': 'pathname', 'type': 'const char*', '...    1     0  \n",
      "4  [{'name': 'pathname', 'type': 'const char*', '...    1     0  \n"
     ]
    }
   ],
   "source": [
    "print(df['evil'].value_counts())\n",
    "print(df['sus'].value_counts())\n",
    "print(df[df['evil'] == 1].head())\n",
    "print(df[df['sus'] == 1].head())\n"
   ]
  },
  {
   "cell_type": "code",
   "execution_count": 22,
   "id": "780724d1-39ce-4236-9a65-5aadc061f4a8",
   "metadata": {},
   "outputs": [],
   "source": [
    "df_proc = df.copy()\n",
    "df_proc['is_attack'] = df_proc['sus']  # 1 = Suspicious, 0 = Normal\n"
   ]
  },
  {
   "cell_type": "code",
   "execution_count": 23,
   "id": "189e47c4-710d-422c-9df1-ef9d89193731",
   "metadata": {},
   "outputs": [
    {
     "name": "stdout",
     "output_type": "stream",
     "text": [
      "is_attack\n",
      "0    761875\n",
      "1      1269\n",
      "Name: count, dtype: int64\n"
     ]
    }
   ],
   "source": [
    "print(df_proc['is_attack'].value_counts())\n"
   ]
  },
  {
   "cell_type": "code",
   "execution_count": 24,
   "id": "325752ec-6cda-4c33-8030-00197f23c9fb",
   "metadata": {},
   "outputs": [
    {
     "data": {
      "image/png": "[encoded data removed]",
      "text/plain": [
       "<Figure size 640x480 with 1 Axes>"
      ]
     },
     "metadata": {},
     "output_type": "display_data"
    }
   ],
   "source": [
    "import seaborn as sns\n",
    "import matplotlib.pyplot as plt\n",
    "\n",
    "sns.countplot(x='is_attack', data=df_proc)\n",
    "plt.title('Normal vs. Suspicious Activity Distribution')\n",
    "plt.xlabel('is_attack (0=Normal, 1=Suspicious)')\n",
    "plt.ylabel('Count')\n",
    "plt.show()\n"
   ]
  },
  {
   "cell_type": "code",
   "execution_count": 25,
   "id": "8dc857e5-fcd4-4c5a-aa4f-1a5cc34588b0",
   "metadata": {},
   "outputs": [
    {
     "name": "stdout",
     "output_type": "stream",
     "text": [
      "     timestamp  processId  threadId  parentProcessId  userId  mountNamespace  \\\n",
      "0  1809.495787        381      7337                1     100      4026532231   \n",
      "1  1809.495832        381      7337                1     100      4026532231   \n",
      "2  1809.495921        381      7337                1     100      4026532231   \n",
      "3  1894.139651       7347      7347             7341       0      4026531840   \n",
      "4  1894.142127       7347      7347             7341       0      4026531840   \n",
      "\n",
      "  processName         hostName  eventId           eventName  \\\n",
      "0       close  ip-10-100-1-120      157               prctl   \n",
      "1       close  ip-10-100-1-120        3               close   \n",
      "2       close  ip-10-100-1-120     1010  sched_process_exit   \n",
      "3          sh  ip-10-100-1-120       21              access   \n",
      "4          sh  ip-10-100-1-120     1005  security_file_open   \n",
      "\n",
      "                         stackAddresses  argsNum  returnValue  \\\n",
      "0  [140662171848350, 11649800180280676]        5            0   \n",
      "1                     [140662171777451]        1            0   \n",
      "2                                    []        0            0   \n",
      "3                                    []        2           -2   \n",
      "4    [139778263990104, 139778263906698]        4            0   \n",
      "\n",
      "                                                args  sus  evil  is_attack  \n",
      "0  [{'name': 'option', 'type': 'int', 'value': 'P...    1     0          1  \n",
      "1       [{'name': 'fd', 'type': 'int', 'value': 19}]    1     0          1  \n",
      "2                                                 []    1     0          1  \n",
      "3  [{'name': 'pathname', 'type': 'const char*', '...    1     0          1  \n",
      "4  [{'name': 'pathname', 'type': 'const char*', '...    1     0          1  \n",
      "      timestamp  processId  threadId  parentProcessId  userId  mountNamespace  \\\n",
      "273  134.392931        502       502                1       0      4026532288   \n",
      "274  134.394459          1         1                0       0      4026531840   \n",
      "275  134.394500          1         1                0       0      4026531840   \n",
      "276  134.394524          1         1                0       0      4026531840   \n",
      "277  134.394545          1         1                0       0      4026531840   \n",
      "\n",
      "        processName         hostName  eventId    eventName  \\\n",
      "273  systemd-logind  ip-10-100-1-120       21       access   \n",
      "274         systemd  ip-10-100-1-120     1003  cap_capable   \n",
      "275         systemd  ip-10-100-1-120       62         kill   \n",
      "276         systemd  ip-10-100-1-120     1003  cap_capable   \n",
      "277         systemd  ip-10-100-1-120       62         kill   \n",
      "\n",
      "                        stackAddresses  argsNum  returnValue  \\\n",
      "273  [140082941805227, 94913087285976]        2           -2   \n",
      "274                  [139763440125275]        1            0   \n",
      "275                                 []        2            0   \n",
      "276                                 []        1            0   \n",
      "277                                 []        2            0   \n",
      "\n",
      "                                                  args  sus  evil  is_attack  \n",
      "273  [{'name': 'pathname', 'type': 'const char*', '...    0     0          0  \n",
      "274  [{'name': 'cap', 'type': 'int', 'value': 'CAP_...    0     0          0  \n",
      "275  [{'name': 'pid', 'type': 'pid_t', 'value': 837...    0     0          0  \n",
      "276  [{'name': 'cap', 'type': 'int', 'value': 'CAP_...    0     0          0  \n",
      "277  [{'name': 'pid', 'type': 'pid_t', 'value': 837...    0     0          0  \n"
     ]
    }
   ],
   "source": [
    "print(df_proc[df_proc['is_attack'] == 1].head())   # Sample suspicious events\n",
    "print(df_proc[df_proc['is_attack'] == 0].head())   # Sample normal events\n"
   ]
  },
  {
   "cell_type": "code",
   "execution_count": 26,
   "id": "a8790888-72c6-482a-ad03-062f99ba6871",
   "metadata": {},
   "outputs": [
    {
     "name": "stdout",
     "output_type": "stream",
     "text": [
      "Suspicious process names:\n",
      "processName\n",
      "systemd      992\n",
      "sh           119\n",
      "run-parts    112\n",
      "close         36\n",
      "atd            6\n",
      "(sd-pam)       4\n",
      "Name: count, dtype: int64\n",
      "Suspicious event types:\n",
      "eventName\n",
      "openat                   299\n",
      "lstat                    260\n",
      "close                    223\n",
      "stat                     114\n",
      "fstat                    111\n",
      "security_file_open        95\n",
      "getdents64                78\n",
      "sched_process_exit        34\n",
      "access                    14\n",
      "prctl                     12\n",
      "clone                      7\n",
      "execve                     7\n",
      "security_bprm_check        7\n",
      "security_inode_unlink      4\n",
      "unlink                     4\n",
      "Name: count, dtype: int64\n"
     ]
    }
   ],
   "source": [
    "print(\"Suspicious process names:\")\n",
    "print(df_proc[df_proc['is_attack'] == 1]['processName'].value_counts())\n",
    "\n",
    "print(\"Suspicious event types:\")\n",
    "print(df_proc[df_proc['is_attack'] == 1]['eventName'].value_counts())\n"
   ]
  },
  {
   "cell_type": "code",
   "execution_count": 27,
   "id": "eedeea3b-ec0f-4dbc-a96d-2d1ae74cea6b",
   "metadata": {},
   "outputs": [],
   "source": [
    "from sklearn.preprocessing import LabelEncoder\n",
    "\n",
    "cat_cols = ['processName', 'eventName', 'hostName']\n",
    "for col in cat_cols:\n",
    "    df_proc[col] = LabelEncoder().fit_transform(df_proc[col])\n"
   ]
  },
  {
   "cell_type": "code",
   "execution_count": 28,
   "id": "af9bccc8-db7a-4ef7-929a-ff0598e106cc",
   "metadata": {},
   "outputs": [],
   "source": [
    "features = ['processName', 'eventName', 'argsNum', 'returnValue', 'hostName']  # add/remove depending on relevance\n",
    "X = df_proc[features]\n",
    "y = df_proc['is_attack']\n"
   ]
  },
  {
   "cell_type": "code",
   "execution_count": 29,
   "id": "e1eb73ef-27a0-477a-b190-d7ccf8f26a73",
   "metadata": {},
   "outputs": [],
   "source": [
    "from sklearn.preprocessing import StandardScaler\n",
    "\n",
    "scaler = StandardScaler()\n",
    "X_scaled = scaler.fit_transform(X)\n"
   ]
  },
  {
   "cell_type": "code",
   "execution_count": 30,
   "id": "ec1854db-9e4f-4113-864d-4986b8ab21e9",
   "metadata": {},
   "outputs": [],
   "source": [
    "from sklearn.model_selection import train_test_split\n",
    "\n",
    "X_train, X_test, y_train, y_test = train_test_split(\n",
    "    X_scaled, y, test_size=0.2, random_state=42, stratify=y)\n"
   ]
  },
  {
   "cell_type": "code",
   "execution_count": 31,
   "id": "33884605-8dac-451f-b0dd-9c4cec355969",
   "metadata": {},
   "outputs": [],
   "source": [
    "from sklearn.ensemble import RandomForestClassifier\n",
    "\n",
    "rf = RandomForestClassifier(n_estimators=100, random_state=42)\n",
    "rf.fit(X_train, y_train)\n",
    "y_pred = rf.predict(X_test)\n"
   ]
  },
  {
   "cell_type": "code",
   "execution_count": 32,
   "id": "5480727c-108a-436e-b05b-c8c71b6b63d7",
   "metadata": {},
   "outputs": [
    {
     "name": "stdout",
     "output_type": "stream",
     "text": [
      "              precision    recall  f1-score   support\n",
      "\n",
      "           0       1.00      1.00      1.00    152375\n",
      "           1       0.81      0.60      0.69       254\n",
      "\n",
      "    accuracy                           1.00    152629\n",
      "   macro avg       0.91      0.80      0.84    152629\n",
      "weighted avg       1.00      1.00      1.00    152629\n",
      "\n"
     ]
    },
    {
     "data": {
      "image/png": "[encoded data removed]",
      "text/plain": [
       "<Figure size 640x480 with 2 Axes>"
      ]
     },
     "metadata": {},
     "output_type": "display_data"
    },
    {
     "name": "stdout",
     "output_type": "stream",
     "text": [
      "AUC ROC Score: 0.80\n"
     ]
    },
    {
     "data": {
      "image/png": "[encoded data removed]",
      "text/plain": [
       "<Figure size 640x480 with 1 Axes>"
      ]
     },
     "metadata": {},
     "output_type": "display_data"
    }
   ],
   "source": [
    "from sklearn.metrics import classification_report, confusion_matrix, roc_auc_score, roc_curve\n",
    "import matplotlib.pyplot as plt\n",
    "import seaborn as sns\n",
    "\n",
    "print(classification_report(y_test, y_pred))\n",
    "cm = confusion_matrix(y_test, y_pred)\n",
    "sns.heatmap(cm, annot=True, fmt='d', cmap='Blues')\n",
    "plt.title('Confusion Matrix')\n",
    "plt.show()\n",
    "\n",
    "roc_score = roc_auc_score(y_test, y_pred)\n",
    "print(f'AUC ROC Score: {roc_score:.2f}')\n",
    "\n",
    "fpr, tpr, _ = roc_curve(y_test, rf.predict_proba(X_test)[:,1])\n",
    "plt.plot(fpr, tpr, label='ROC curve')\n",
    "plt.xlabel('False Positive Rate')\n",
    "plt.ylabel('True Positive Rate')\n",
    "plt.title('Receiver Operating Characteristic')\n",
    "plt.legend()\n",
    "plt.show()\n"
   ]
  },
  {
   "cell_type": "code",
   "execution_count": 33,
   "id": "d638b763-4dde-4a5c-b353-e0c6f2eefab4",
   "metadata": {},
   "outputs": [
    {
     "name": "stdout",
     "output_type": "stream",
     "text": [
      "              precision    recall  f1-score   support\n",
      "\n",
      "           0       1.00      0.91      0.95    152375\n",
      "           1       0.01      0.46      0.02       254\n",
      "\n",
      "    accuracy                           0.91    152629\n",
      "   macro avg       0.50      0.68      0.48    152629\n",
      "weighted avg       1.00      0.91      0.95    152629\n",
      "\n"
     ]
    }
   ],
   "source": [
    "from sklearn.ensemble import IsolationForest\n",
    "import numpy as np\n",
    "\n",
    "iso = IsolationForest(contamination=0.1, random_state=42)\n",
    "iso.fit(X_train)\n",
    "y_pred_unsup = iso.predict(X_test)\n",
    "y_pred_unsup = np.where(y_pred_unsup == -1, 1, 0)\n",
    "print(classification_report(y_test, y_pred_unsup))\n"
   ]
  },
  {
   "cell_type": "code",
   "execution_count": 34,
   "id": "96fea17d-daca-4e23-b75d-81e7532c2f13",
   "metadata": {},
   "outputs": [
    {
     "name": "stdout",
     "output_type": "stream",
     "text": [
      "Model Accuracy: 0.9991023986267354\n"
     ]
    }
   ],
   "source": [
    "from sklearn.metrics import accuracy_score\n",
    "print(\"Model Accuracy:\", accuracy_score(y_test, y_pred))\n"
   ]
  }
 ],
 "metadata": {
  "kernelspec": {
   "display_name": "Python (myenv)",
   "language": "python",
   "name": "myenv"
  },
  "language_info": {
   "codemirror_mode": {
    "name": "ipython",
    "version": 3
   },
   "file_extension": ".py",
   "mimetype": "text/x-python",
   "name": "python",
   "nbconvert_exporter": "python",
   "pygments_lexer": "ipython3",
   "version": "3.14.0"
  }
 },
 "nbformat": 4,
 "nbformat_minor": 5
}
